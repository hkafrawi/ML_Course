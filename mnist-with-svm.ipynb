{
 "cells": [
  {
   "cell_type": "code",
   "execution_count": 1,
   "id": "ad92c240",
   "metadata": {
    "_cell_guid": "b1076dfc-b9ad-4769-8c92-a6c4dae69d19",
    "_uuid": "8f2839f25d086af736a60e9eeb907d3b93b6e0e5",
    "execution": {
     "iopub.execute_input": "2024-06-06T14:43:06.742824Z",
     "iopub.status.busy": "2024-06-06T14:43:06.741450Z",
     "iopub.status.idle": "2024-06-06T14:43:07.742496Z",
     "shell.execute_reply": "2024-06-06T14:43:07.741173Z"
    },
    "papermill": {
     "duration": 1.012701,
     "end_time": "2024-06-06T14:43:07.745342",
     "exception": false,
     "start_time": "2024-06-06T14:43:06.732641",
     "status": "completed"
    },
    "tags": []
   },
   "outputs": [
    {
     "name": "stdout",
     "output_type": "stream",
     "text": [
      "/kaggle/input/fashionmnist/t10k-labels-idx1-ubyte\n",
      "/kaggle/input/fashionmnist/t10k-images-idx3-ubyte\n",
      "/kaggle/input/fashionmnist/fashion-mnist_test.csv\n",
      "/kaggle/input/fashionmnist/fashion-mnist_train.csv\n",
      "/kaggle/input/fashionmnist/train-labels-idx1-ubyte\n",
      "/kaggle/input/fashionmnist/train-images-idx3-ubyte\n"
     ]
    }
   ],
   "source": [
    "# This Python 3 environment comes with many helpful analytics libraries installed\n",
    "# It is defined by the kaggle/python Docker image: https://github.com/kaggle/docker-python\n",
    "# For example, here's several helpful packages to load\n",
    "\n",
    "import numpy as np # linear algebra\n",
    "import pandas as pd # data processing, CSV file I/O (e.g. pd.read_csv)\n",
    "\n",
    "# Input data files are available in the read-only \"../input/\" directory\n",
    "# For example, running this (by clicking run or pressing Shift+Enter) will list all files under the input directory\n",
    "\n",
    "import os\n",
    "for dirname, _, filenames in os.walk('/kaggle/input'):\n",
    "    for filename in filenames:\n",
    "        print(os.path.join(dirname, filename))\n",
    "\n",
    "# You can write up to 20GB to the current directory (/kaggle/working/) that gets preserved as output when you create a version using \"Save & Run All\" \n",
    "# You can also write temporary files to /kaggle/temp/, but they won't be saved outside of the current session"
   ]
  },
  {
   "cell_type": "code",
   "execution_count": 2,
   "id": "60cf0d71",
   "metadata": {
    "execution": {
     "iopub.execute_input": "2024-06-06T14:43:07.758847Z",
     "iopub.status.busy": "2024-06-06T14:43:07.758223Z",
     "iopub.status.idle": "2024-06-06T14:43:09.338236Z",
     "shell.execute_reply": "2024-06-06T14:43:09.336459Z"
    },
    "papermill": {
     "duration": 1.590085,
     "end_time": "2024-06-06T14:43:09.341183",
     "exception": false,
     "start_time": "2024-06-06T14:43:07.751098",
     "status": "completed"
    },
    "tags": []
   },
   "outputs": [],
   "source": [
    "import numpy as np\n",
    "import pandas as pd \n",
    "from sklearn.model_selection import train_test_split\n",
    "import matplotlib.pyplot as plt\n",
    "from sklearn import svm\n",
    "from sklearn.preprocessing import StandardScaler\n",
    "from sklearn.metrics import accuracy_score"
   ]
  },
  {
   "cell_type": "code",
   "execution_count": 3,
   "id": "ee0e69f6",
   "metadata": {
    "execution": {
     "iopub.execute_input": "2024-06-06T14:43:09.353858Z",
     "iopub.status.busy": "2024-06-06T14:43:09.353420Z",
     "iopub.status.idle": "2024-06-06T14:43:17.694817Z",
     "shell.execute_reply": "2024-06-06T14:43:17.693679Z"
    },
    "papermill": {
     "duration": 8.350864,
     "end_time": "2024-06-06T14:43:17.697551",
     "exception": false,
     "start_time": "2024-06-06T14:43:09.346687",
     "status": "completed"
    },
    "tags": []
   },
   "outputs": [],
   "source": [
    "df_test = pd.read_csv (\"/kaggle/input/fashionmnist/fashion-mnist_test.csv\")\n",
    "df_train = pd.read_csv (\"/kaggle/input/fashionmnist/fashion-mnist_train.csv\") "
   ]
  },
  {
   "cell_type": "code",
   "execution_count": 4,
   "id": "4265b972",
   "metadata": {
    "execution": {
     "iopub.execute_input": "2024-06-06T14:43:17.710011Z",
     "iopub.status.busy": "2024-06-06T14:43:17.709580Z",
     "iopub.status.idle": "2024-06-06T14:43:18.291737Z",
     "shell.execute_reply": "2024-06-06T14:43:18.289364Z"
    },
    "papermill": {
     "duration": 0.592208,
     "end_time": "2024-06-06T14:43:18.295242",
     "exception": false,
     "start_time": "2024-06-06T14:43:17.703034",
     "status": "completed"
    },
    "tags": []
   },
   "outputs": [],
   "source": [
    "train_f = df_train.drop('label',axis=1)\n",
    "test_features=df_test.drop('label',axis=1)\n",
    "\n",
    "train_l=df_train['label']\n",
    "test_labels=df_test['label']\n",
    "\n",
    "X_train, X_test, y_train, y_test  = train_test_split(train_f, train_l, test_size=0.35, random_state=42)"
   ]
  },
  {
   "cell_type": "code",
   "execution_count": 5,
   "id": "a7f700a7",
   "metadata": {
    "execution": {
     "iopub.execute_input": "2024-06-06T14:43:18.308504Z",
     "iopub.status.busy": "2024-06-06T14:43:18.307624Z",
     "iopub.status.idle": "2024-06-06T14:43:18.314265Z",
     "shell.execute_reply": "2024-06-06T14:43:18.313076Z"
    },
    "papermill": {
     "duration": 0.016207,
     "end_time": "2024-06-06T14:43:18.317006",
     "exception": false,
     "start_time": "2024-06-06T14:43:18.300799",
     "status": "completed"
    },
    "tags": []
   },
   "outputs": [],
   "source": [
    "X_train = X_train.to_numpy()\n",
    "X_test = X_test.to_numpy()\n",
    "y_train = y_train.to_numpy()\n",
    "y_test = y_test.to_numpy()\n",
    "\n",
    "test_features = test_features.to_numpy()\n",
    "test_labels = test_labels.to_numpy()"
   ]
  },
  {
   "cell_type": "code",
   "execution_count": 6,
   "id": "a158a317",
   "metadata": {
    "execution": {
     "iopub.execute_input": "2024-06-06T14:43:18.330547Z",
     "iopub.status.busy": "2024-06-06T14:43:18.330049Z",
     "iopub.status.idle": "2024-06-06T14:43:18.338096Z",
     "shell.execute_reply": "2024-06-06T14:43:18.336737Z"
    },
    "papermill": {
     "duration": 0.017761,
     "end_time": "2024-06-06T14:43:18.340793",
     "exception": false,
     "start_time": "2024-06-06T14:43:18.323032",
     "status": "completed"
    },
    "tags": []
   },
   "outputs": [
    {
     "name": "stdout",
     "output_type": "stream",
     "text": [
      "X_train (39000, 784)\n",
      "y_train (39000,)\n",
      "X_test (21000, 784)\n",
      "y_test (21000,)\n",
      "test_features (10000, 784)\n",
      "test_labels (10000,)\n"
     ]
    }
   ],
   "source": [
    "print(f\"X_train {X_train.shape}\")\n",
    "print(f\"y_train {y_train.shape}\")\n",
    "\n",
    "print(f\"X_test {X_test.shape}\")\n",
    "print(f\"y_test {y_test.shape}\")\n",
    "\n",
    "print(f\"test_features {test_features.shape}\")\n",
    "print(f\"test_labels {test_labels.shape}\")"
   ]
  },
  {
   "cell_type": "code",
   "execution_count": 7,
   "id": "c0993484",
   "metadata": {
    "execution": {
     "iopub.execute_input": "2024-06-06T14:43:18.353737Z",
     "iopub.status.busy": "2024-06-06T14:43:18.353261Z",
     "iopub.status.idle": "2024-06-06T14:43:18.999482Z",
     "shell.execute_reply": "2024-06-06T14:43:18.998258Z"
    },
    "papermill": {
     "duration": 0.656009,
     "end_time": "2024-06-06T14:43:19.002354",
     "exception": false,
     "start_time": "2024-06-06T14:43:18.346345",
     "status": "completed"
    },
    "tags": []
   },
   "outputs": [],
   "source": [
    "X_train=StandardScaler().fit_transform(X_train)\n",
    "test_features=StandardScaler().fit_transform(test_features)"
   ]
  },
  {
   "cell_type": "code",
   "execution_count": 8,
   "id": "f2a23c5a",
   "metadata": {
    "execution": {
     "iopub.execute_input": "2024-06-06T14:43:19.015090Z",
     "iopub.status.busy": "2024-06-06T14:43:19.014676Z",
     "iopub.status.idle": "2024-06-06T14:47:02.384327Z",
     "shell.execute_reply": "2024-06-06T14:47:02.383180Z"
    },
    "papermill": {
     "duration": 223.384433,
     "end_time": "2024-06-06T14:47:02.392308",
     "exception": false,
     "start_time": "2024-06-06T14:43:19.007875",
     "status": "completed"
    },
    "tags": []
   },
   "outputs": [
    {
     "data": {
      "text/html": [
       "<style>#sk-container-id-1 {color: black;background-color: white;}#sk-container-id-1 pre{padding: 0;}#sk-container-id-1 div.sk-toggleable {background-color: white;}#sk-container-id-1 label.sk-toggleable__label {cursor: pointer;display: block;width: 100%;margin-bottom: 0;padding: 0.3em;box-sizing: border-box;text-align: center;}#sk-container-id-1 label.sk-toggleable__label-arrow:before {content: \"▸\";float: left;margin-right: 0.25em;color: #696969;}#sk-container-id-1 label.sk-toggleable__label-arrow:hover:before {color: black;}#sk-container-id-1 div.sk-estimator:hover label.sk-toggleable__label-arrow:before {color: black;}#sk-container-id-1 div.sk-toggleable__content {max-height: 0;max-width: 0;overflow: hidden;text-align: left;background-color: #f0f8ff;}#sk-container-id-1 div.sk-toggleable__content pre {margin: 0.2em;color: black;border-radius: 0.25em;background-color: #f0f8ff;}#sk-container-id-1 input.sk-toggleable__control:checked~div.sk-toggleable__content {max-height: 200px;max-width: 100%;overflow: auto;}#sk-container-id-1 input.sk-toggleable__control:checked~label.sk-toggleable__label-arrow:before {content: \"▾\";}#sk-container-id-1 div.sk-estimator input.sk-toggleable__control:checked~label.sk-toggleable__label {background-color: #d4ebff;}#sk-container-id-1 div.sk-label input.sk-toggleable__control:checked~label.sk-toggleable__label {background-color: #d4ebff;}#sk-container-id-1 input.sk-hidden--visually {border: 0;clip: rect(1px 1px 1px 1px);clip: rect(1px, 1px, 1px, 1px);height: 1px;margin: -1px;overflow: hidden;padding: 0;position: absolute;width: 1px;}#sk-container-id-1 div.sk-estimator {font-family: monospace;background-color: #f0f8ff;border: 1px dotted black;border-radius: 0.25em;box-sizing: border-box;margin-bottom: 0.5em;}#sk-container-id-1 div.sk-estimator:hover {background-color: #d4ebff;}#sk-container-id-1 div.sk-parallel-item::after {content: \"\";width: 100%;border-bottom: 1px solid gray;flex-grow: 1;}#sk-container-id-1 div.sk-label:hover label.sk-toggleable__label {background-color: #d4ebff;}#sk-container-id-1 div.sk-serial::before {content: \"\";position: absolute;border-left: 1px solid gray;box-sizing: border-box;top: 0;bottom: 0;left: 50%;z-index: 0;}#sk-container-id-1 div.sk-serial {display: flex;flex-direction: column;align-items: center;background-color: white;padding-right: 0.2em;padding-left: 0.2em;position: relative;}#sk-container-id-1 div.sk-item {position: relative;z-index: 1;}#sk-container-id-1 div.sk-parallel {display: flex;align-items: stretch;justify-content: center;background-color: white;position: relative;}#sk-container-id-1 div.sk-item::before, #sk-container-id-1 div.sk-parallel-item::before {content: \"\";position: absolute;border-left: 1px solid gray;box-sizing: border-box;top: 0;bottom: 0;left: 50%;z-index: -1;}#sk-container-id-1 div.sk-parallel-item {display: flex;flex-direction: column;z-index: 1;position: relative;background-color: white;}#sk-container-id-1 div.sk-parallel-item:first-child::after {align-self: flex-end;width: 50%;}#sk-container-id-1 div.sk-parallel-item:last-child::after {align-self: flex-start;width: 50%;}#sk-container-id-1 div.sk-parallel-item:only-child::after {width: 0;}#sk-container-id-1 div.sk-dashed-wrapped {border: 1px dashed gray;margin: 0 0.4em 0.5em 0.4em;box-sizing: border-box;padding-bottom: 0.4em;background-color: white;}#sk-container-id-1 div.sk-label label {font-family: monospace;font-weight: bold;display: inline-block;line-height: 1.2em;}#sk-container-id-1 div.sk-label-container {text-align: center;}#sk-container-id-1 div.sk-container {/* jupyter's `normalize.less` sets `[hidden] { display: none; }` but bootstrap.min.css set `[hidden] { display: none !important; }` so we also need the `!important` here to be able to override the default hidden behavior on the sphinx rendered scikit-learn.org. See: https://github.com/scikit-learn/scikit-learn/issues/21755 */display: inline-block !important;position: relative;}#sk-container-id-1 div.sk-text-repr-fallback {display: none;}</style><div id=\"sk-container-id-1\" class=\"sk-top-container\"><div class=\"sk-text-repr-fallback\"><pre>SVC(degree=2, kernel=&#x27;poly&#x27;)</pre><b>In a Jupyter environment, please rerun this cell to show the HTML representation or trust the notebook. <br />On GitHub, the HTML representation is unable to render, please try loading this page with nbviewer.org.</b></div><div class=\"sk-container\" hidden><div class=\"sk-item\"><div class=\"sk-estimator sk-toggleable\"><input class=\"sk-toggleable__control sk-hidden--visually\" id=\"sk-estimator-id-1\" type=\"checkbox\" checked><label for=\"sk-estimator-id-1\" class=\"sk-toggleable__label sk-toggleable__label-arrow\">SVC</label><div class=\"sk-toggleable__content\"><pre>SVC(degree=2, kernel=&#x27;poly&#x27;)</pre></div></div></div></div></div>"
      ],
      "text/plain": [
       "SVC(degree=2, kernel='poly')"
      ]
     },
     "execution_count": 8,
     "metadata": {},
     "output_type": "execute_result"
    }
   ],
   "source": [
    "model2=svm.SVC(kernel='poly',degree=2)\n",
    "model2.fit(X_train,y_train)"
   ]
  },
  {
   "cell_type": "code",
   "execution_count": 9,
   "id": "cff21cf0",
   "metadata": {
    "execution": {
     "iopub.execute_input": "2024-06-06T14:47:02.405164Z",
     "iopub.status.busy": "2024-06-06T14:47:02.404776Z",
     "iopub.status.idle": "2024-06-06T14:47:02.422295Z",
     "shell.execute_reply": "2024-06-06T14:47:02.421132Z"
    },
    "papermill": {
     "duration": 0.026783,
     "end_time": "2024-06-06T14:47:02.424702",
     "exception": false,
     "start_time": "2024-06-06T14:47:02.397919",
     "status": "completed"
    },
    "tags": []
   },
   "outputs": [
    {
     "data": {
      "text/plain": [
       "array([0])"
      ]
     },
     "execution_count": 9,
     "metadata": {},
     "output_type": "execute_result"
    }
   ],
   "source": [
    "model2.predict([X_test[0]])"
   ]
  },
  {
   "cell_type": "code",
   "execution_count": 10,
   "id": "47e19d9c",
   "metadata": {
    "execution": {
     "iopub.execute_input": "2024-06-06T14:47:02.438318Z",
     "iopub.status.busy": "2024-06-06T14:47:02.437663Z",
     "iopub.status.idle": "2024-06-06T14:48:37.609661Z",
     "shell.execute_reply": "2024-06-06T14:48:37.608401Z"
    },
    "papermill": {
     "duration": 95.182546,
     "end_time": "2024-06-06T14:48:37.613015",
     "exception": false,
     "start_time": "2024-06-06T14:47:02.430469",
     "status": "completed"
    },
    "tags": []
   },
   "outputs": [],
   "source": [
    "y_predict = model2.predict(test_features)"
   ]
  },
  {
   "cell_type": "code",
   "execution_count": 11,
   "id": "3fe11153",
   "metadata": {
    "execution": {
     "iopub.execute_input": "2024-06-06T14:48:37.626908Z",
     "iopub.status.busy": "2024-06-06T14:48:37.626434Z",
     "iopub.status.idle": "2024-06-06T14:48:37.635348Z",
     "shell.execute_reply": "2024-06-06T14:48:37.634219Z"
    },
    "papermill": {
     "duration": 0.018578,
     "end_time": "2024-06-06T14:48:37.637862",
     "exception": false,
     "start_time": "2024-06-06T14:48:37.619284",
     "status": "completed"
    },
    "tags": []
   },
   "outputs": [
    {
     "data": {
      "text/plain": [
       "array([0, 1, 2, ..., 8, 8, 1])"
      ]
     },
     "execution_count": 11,
     "metadata": {},
     "output_type": "execute_result"
    }
   ],
   "source": [
    "test_labels"
   ]
  },
  {
   "cell_type": "code",
   "execution_count": 12,
   "id": "0110a9ce",
   "metadata": {
    "execution": {
     "iopub.execute_input": "2024-06-06T14:48:37.651623Z",
     "iopub.status.busy": "2024-06-06T14:48:37.651211Z",
     "iopub.status.idle": "2024-06-06T14:48:37.659344Z",
     "shell.execute_reply": "2024-06-06T14:48:37.658097Z"
    },
    "papermill": {
     "duration": 0.017868,
     "end_time": "2024-06-06T14:48:37.661821",
     "exception": false,
     "start_time": "2024-06-06T14:48:37.643953",
     "status": "completed"
    },
    "tags": []
   },
   "outputs": [
    {
     "name": "stdout",
     "output_type": "stream",
     "text": [
      "Accuracy Score:0.8851\n"
     ]
    }
   ],
   "source": [
    "accuracy_score = accuracy_score(test_labels, y_predict)\n",
    "print(f\"Accuracy Score:{accuracy_score}\")"
   ]
  },
  {
   "cell_type": "code",
   "execution_count": null,
   "id": "e5d36124",
   "metadata": {
    "papermill": {
     "duration": 0.005755,
     "end_time": "2024-06-06T14:48:37.673713",
     "exception": false,
     "start_time": "2024-06-06T14:48:37.667958",
     "status": "completed"
    },
    "tags": []
   },
   "outputs": [],
   "source": []
  }
 ],
 "metadata": {
  "kaggle": {
   "accelerator": "none",
   "dataSources": [
    {
     "datasetId": 2243,
     "sourceId": 9243,
     "sourceType": "datasetVersion"
    }
   ],
   "dockerImageVersionId": 30732,
   "isGpuEnabled": false,
   "isInternetEnabled": true,
   "language": "python",
   "sourceType": "notebook"
  },
  "kernelspec": {
   "display_name": "Python 3",
   "language": "python",
   "name": "python3"
  },
  "language_info": {
   "codemirror_mode": {
    "name": "ipython",
    "version": 3
   },
   "file_extension": ".py",
   "mimetype": "text/x-python",
   "name": "python",
   "nbconvert_exporter": "python",
   "pygments_lexer": "ipython3",
   "version": "3.10.13"
  },
  "papermill": {
   "default_parameters": {},
   "duration": 334.556623,
   "end_time": "2024-06-06T14:48:38.303240",
   "environment_variables": {},
   "exception": null,
   "input_path": "__notebook__.ipynb",
   "output_path": "__notebook__.ipynb",
   "parameters": {},
   "start_time": "2024-06-06T14:43:03.746617",
   "version": "2.5.0"
  }
 },
 "nbformat": 4,
 "nbformat_minor": 5
}
